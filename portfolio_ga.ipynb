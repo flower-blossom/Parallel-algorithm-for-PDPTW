{
 "cells": [
  {
   "cell_type": "code",
   "execution_count": null,
   "metadata": {},
   "outputs": [],
   "source": [
    "conda clean -all"
   ]
  },
  {
   "cell_type": "code",
   "execution_count": 3,
   "id": "physical-tradition",
   "metadata": {},
   "outputs": [
    {
     "name": "stdout",
     "output_type": "stream",
     "text": [
      "[0.00425773 0.00194321 0.00257649 0.00197834 0.00236836 0.00296398\n",
      " 0.00121811 0.00281042 0.00223029 0.00271553 0.00187621 0.00410456\n",
      " 0.0026708  0.00406927 0.00218431 0.00203078 0.00631501 0.00591688\n",
      " 0.00240691 0.00212719 0.00421278 0.00224362 0.00289772 0.0031003\n",
      " 0.00180925 0.00302151 0.00221985]\n"
     ]
    }
   ],
   "source": [
    "import pandas\n",
    "import math\n",
    "import numpy as np\n",
    "\n",
    "from geneticalgorithm import geneticalgorithm as ga\n",
    "from qpsolvers import solve_qp\n",
    "\n",
    "# percentReturnsWeekDataAfterLunc.xlsx\n",
    "# percentReturnsWeekDataBeforeLunc.xlsx\n",
    "# percentReturnsWeekData.xlsx\n",
    "# path = r'data\\API binance\\percentReturnsMonthDataBeforeLunc.xlsx'\n",
    "path = r'data\\realworld dataset\\\\Datasets\\\\DowJones\\\\DowJones.xlsx'\n",
    "# Read TestData\n",
    "my_data = pandas.read_excel(path, header=None)\n",
    "\n",
    "# Read API Data\n",
    "my_data = pandas.read_excel(path, index_col=0, header=0)\n",
    "\n",
    "percentInOut = 0.95\n",
    "data_in  = my_data.iloc[:round(percentInOut*my_data.shape[0]), :]\n",
    "data_out = my_data.iloc[round(percentInOut*my_data.shape[0]):, :]\n",
    "covMatrix = data_in.cov().to_numpy()\n",
    "corrMatrix = data_in.corr().to_numpy()\n",
    "expectedVector = np.mean(data_in.to_numpy().to_numpy(), axis=0)\n",
    "\n",
    "covMatrixOut = data_out.cov().to_numpy()\n",
    "corrMatrixOut = data_out.corr().to_numpy()\n",
    "expectedVectorOut = np.mean(my_data, axis=0)\n",
    "\n",
    "# print(\"Covariance Matrix is : \")\n",
    "# print(covMatrix.size)\n",
    "# print(len(covMatrix))\n",
    "print(expectedVector)\n",
    "# print(\"Correlation Matrix is : \")\n",
    "# print(corrMatrix)"
   ]
  },
  {
   "cell_type": "markdown",
   "id": "horizontal-stadium",
   "metadata": {},
   "source": [
    "Solve model 1 using ga"
   ]
  },
  {
   "cell_type": "code",
   "execution_count": 2,
   "id": "personal-nowhere",
   "metadata": {},
   "outputs": [],
   "source": [
    "def f(X):\n",
    "    #     Objective function: Sharpe Ratio\n",
    "    dim = len(X)\n",
    "    OF = 0\n",
    "    pen = 0\n",
    "    contrant = 0\n",
    "    xicMa = 0\n",
    "    for i in range(0, dim):\n",
    "        contrant += X[i]\n",
    "        OF += ((X[i])*expectedVector[i])\n",
    "        for j in range(0, dim):\n",
    "            xicMa += (X[i])*(X[j])*covMatrix[i, j]\n",
    "#     Contrant of model by using penalty\n",
    "    if contrant < 10:\n",
    "        pen = 500 + 1000*(contrant)\n",
    "    OF = OF/math.sqrt(xicMa)\n",
    "    return - OF + pen\n",
    "\n",
    "\n",
    "def executionGa(varbound, numbersOfAssests,K):\n",
    "    algorithm_param = {'max_num_iteration': 100000,\n",
    "                    'population_size': 100,\n",
    "                    'mutation_probability': 0.2,\n",
    "                    'elit_ratio': 0.01,\n",
    "                    'crossover_probability': 0.5,\n",
    "                    'parents_portion': 0.3,\n",
    "                    'crossover_type': 'uniform',\n",
    "                    'max_iteration_without_improv': None}\n",
    "\n",
    "    # Use for TestData because it have a large number assets, set max_num_iteration to saving time run.\n",
    "    # model=ga(function=f,dimension=numbersOfAssests,variable_type='bool',variable_boundaries=varbound, algorithm_parameters=algorithm_param)\n",
    "\n",
    "    # Default for api data\n",
    "    model = ga(function=f, dimension=numbersOfAssests,\n",
    "            variable_type='bool', variable_boundaries=varbound)\n",
    "\n",
    "    model.run()\n",
    "    outputDict = model.output_dict\n",
    "    while outputDict['function'] >= (500 + 1000*(10) - 1):\n",
    "        model.run()\n",
    "        outputDict = model.output_dict       \n",
    "    print(f\"outputDict: {outputDict}\")\n",
    "    return outputDict"
   ]
  },
  {
   "cell_type": "markdown",
   "id": "documentary-discretion",
   "metadata": {},
   "source": [
    "Solve Model 2 (Quadratic programming)"
   ]
  },
  {
   "cell_type": "code",
   "execution_count": 3,
   "id": "olive-wrist",
   "metadata": {},
   "outputs": [],
   "source": [
    "def chosenAssets(arr):\n",
    "    chosenAssetsList = []\n",
    "    for n in range(len(arr)):\n",
    "        if arr[n] == 1:\n",
    "            chosenAssetsList.append(n)\n",
    "    return chosenAssetsList\n",
    "\n",
    "def executionQP(outputDict):\n",
    "    chosenAssetsList = chosenAssets(outputDict['variable'])\n",
    "    numberOfAssets = len(chosenAssetsList)\n",
    "    P = np.zeros((numberOfAssets, numberOfAssets))\n",
    "    for i in range(numberOfAssets):\n",
    "        for j in range(numberOfAssets):\n",
    "            P[i, j] = covMatrix[chosenAssetsList[i] ,chosenAssetsList[j]]                              \n",
    "\n",
    "    expectedReturns = 0\n",
    "    q = np.array([0. for i in range(numberOfAssets)])\n",
    "    A = np.array([1. for i in range(numberOfAssets)])\n",
    "    \n",
    "    b = np.array([1.])\n",
    "    G = -np.array([expectedVector[chosenAssetsList[i]] for i in range(numberOfAssets)])\n",
    "    h = -np.array([expectedReturns])\n",
    "    lb = 0.01 * np.ones(numberOfAssets)\n",
    "    ub = 1 * np.ones(numberOfAssets)\n",
    "    proportionOfAssetsList = solve_qp(P, q, G=G, h=h, A=A, b=b, lb=lb, ub=ub,solver=\"cvxopt\")\n",
    "    return chosenAssetsList,  proportionOfAssetsList\n",
    "    \n",
    "\n",
    "\n"
   ]
  },
  {
   "cell_type": "code",
   "execution_count": 4,
   "metadata": {},
   "outputs": [],
   "source": [
    "def runModel(numbersOfAssests, K):\n",
    "    print(K)\n",
    "    varbound = np.array([[0, 1]]*numbersOfAssests)\n",
    "\n",
    "    outputDict = executionGa(varbound, numbersOfAssests, K)\n",
    "    chosenAssetsList, proportionOfAssetsList = executionQP(outputDict)\n",
    "    print(f\"Proportion Of Assets: x = {proportionOfAssetsList}\")\n",
    "    return chosenAssetsList, proportionOfAssetsList, outputDict"
   ]
  },
  {
   "cell_type": "code",
   "execution_count": 5,
   "metadata": {},
   "outputs": [
    {
     "name": "stdout",
     "output_type": "stream",
     "text": [
      "9\n"
     ]
    },
    {
     "ename": "KeyError",
     "evalue": "0",
     "output_type": "error",
     "traceback": [
      "\u001b[1;31m---------------------------------------------------------------------------\u001b[0m",
      "\u001b[1;31mKeyError\u001b[0m                                  Traceback (most recent call last)",
      "\u001b[1;32m~\\AppData\\Local\\Temp\\ipykernel_4832\\3249481319.py\u001b[0m in \u001b[0;36m<module>\u001b[1;34m\u001b[0m\n\u001b[0;32m      1\u001b[0m \u001b[0mnumbersOfAssests\u001b[0m \u001b[1;33m=\u001b[0m \u001b[0mexpectedVector\u001b[0m\u001b[1;33m.\u001b[0m\u001b[0mshape\u001b[0m\u001b[1;33m[\u001b[0m\u001b[1;36m0\u001b[0m\u001b[1;33m]\u001b[0m\u001b[1;33m\u001b[0m\u001b[1;33m\u001b[0m\u001b[0m\n\u001b[1;32m----> 2\u001b[1;33m \u001b[0mchosenAssetsList\u001b[0m\u001b[1;33m,\u001b[0m \u001b[0mproportionOfAssetsList\u001b[0m\u001b[1;33m,\u001b[0m \u001b[0moutputDict\u001b[0m\u001b[1;33m=\u001b[0m \u001b[0mrunModel\u001b[0m\u001b[1;33m(\u001b[0m\u001b[0mnumbersOfAssests\u001b[0m\u001b[1;33m,\u001b[0m \u001b[1;36m9\u001b[0m\u001b[1;33m)\u001b[0m\u001b[1;33m\u001b[0m\u001b[1;33m\u001b[0m\u001b[0m\n\u001b[0m\u001b[0;32m      3\u001b[0m \u001b[1;33m\u001b[0m\u001b[0m\n\u001b[0;32m      4\u001b[0m \u001b[1;33m\u001b[0m\u001b[0m\n\u001b[0;32m      5\u001b[0m \u001b[1;33m\u001b[0m\u001b[0m\n",
      "\u001b[1;32m~\\AppData\\Local\\Temp\\ipykernel_4832\\1749359729.py\u001b[0m in \u001b[0;36mrunModel\u001b[1;34m(numbersOfAssests, K)\u001b[0m\n\u001b[0;32m      3\u001b[0m     \u001b[0mvarbound\u001b[0m \u001b[1;33m=\u001b[0m \u001b[0mnp\u001b[0m\u001b[1;33m.\u001b[0m\u001b[0marray\u001b[0m\u001b[1;33m(\u001b[0m\u001b[1;33m[\u001b[0m\u001b[1;33m[\u001b[0m\u001b[1;36m0\u001b[0m\u001b[1;33m,\u001b[0m \u001b[1;36m1\u001b[0m\u001b[1;33m]\u001b[0m\u001b[1;33m]\u001b[0m\u001b[1;33m*\u001b[0m\u001b[0mnumbersOfAssests\u001b[0m\u001b[1;33m)\u001b[0m\u001b[1;33m\u001b[0m\u001b[1;33m\u001b[0m\u001b[0m\n\u001b[0;32m      4\u001b[0m \u001b[1;33m\u001b[0m\u001b[0m\n\u001b[1;32m----> 5\u001b[1;33m     \u001b[0moutputDict\u001b[0m \u001b[1;33m=\u001b[0m \u001b[0mexecutionGa\u001b[0m\u001b[1;33m(\u001b[0m\u001b[0mvarbound\u001b[0m\u001b[1;33m,\u001b[0m \u001b[0mnumbersOfAssests\u001b[0m\u001b[1;33m,\u001b[0m \u001b[0mK\u001b[0m\u001b[1;33m)\u001b[0m\u001b[1;33m\u001b[0m\u001b[1;33m\u001b[0m\u001b[0m\n\u001b[0m\u001b[0;32m      6\u001b[0m     \u001b[0mchosenAssetsList\u001b[0m\u001b[1;33m,\u001b[0m \u001b[0mproportionOfAssetsList\u001b[0m \u001b[1;33m=\u001b[0m \u001b[0mexecutionQP\u001b[0m\u001b[1;33m(\u001b[0m\u001b[0moutputDict\u001b[0m\u001b[1;33m)\u001b[0m\u001b[1;33m\u001b[0m\u001b[1;33m\u001b[0m\u001b[0m\n\u001b[0;32m      7\u001b[0m     \u001b[0mprint\u001b[0m\u001b[1;33m(\u001b[0m\u001b[1;34mf\"Proportion Of Assets: x = {proportionOfAssetsList}\"\u001b[0m\u001b[1;33m)\u001b[0m\u001b[1;33m\u001b[0m\u001b[1;33m\u001b[0m\u001b[0m\n",
      "\u001b[1;32m~\\AppData\\Local\\Temp\\ipykernel_4832\\591967376.py\u001b[0m in \u001b[0;36mexecutionGa\u001b[1;34m(varbound, numbersOfAssests, K)\u001b[0m\n\u001b[0;32m     35\u001b[0m             variable_type='bool', variable_boundaries=varbound)\n\u001b[0;32m     36\u001b[0m \u001b[1;33m\u001b[0m\u001b[0m\n\u001b[1;32m---> 37\u001b[1;33m     \u001b[0mmodel\u001b[0m\u001b[1;33m.\u001b[0m\u001b[0mrun\u001b[0m\u001b[1;33m(\u001b[0m\u001b[1;33m)\u001b[0m\u001b[1;33m\u001b[0m\u001b[1;33m\u001b[0m\u001b[0m\n\u001b[0m\u001b[0;32m     38\u001b[0m     \u001b[0moutputDict\u001b[0m \u001b[1;33m=\u001b[0m \u001b[0mmodel\u001b[0m\u001b[1;33m.\u001b[0m\u001b[0moutput_dict\u001b[0m\u001b[1;33m\u001b[0m\u001b[1;33m\u001b[0m\u001b[0m\n\u001b[0;32m     39\u001b[0m     \u001b[1;32mwhile\u001b[0m \u001b[0moutputDict\u001b[0m\u001b[1;33m[\u001b[0m\u001b[1;34m'function'\u001b[0m\u001b[1;33m]\u001b[0m \u001b[1;33m>=\u001b[0m \u001b[1;33m(\u001b[0m\u001b[1;36m500\u001b[0m \u001b[1;33m+\u001b[0m \u001b[1;36m1000\u001b[0m\u001b[1;33m*\u001b[0m\u001b[1;33m(\u001b[0m\u001b[1;36m10\u001b[0m\u001b[1;33m)\u001b[0m \u001b[1;33m-\u001b[0m \u001b[1;36m1\u001b[0m\u001b[1;33m)\u001b[0m\u001b[1;33m:\u001b[0m\u001b[1;33m\u001b[0m\u001b[1;33m\u001b[0m\u001b[0m\n",
      "\u001b[1;32mc:\\Users\\WINDOWS\\anaconda3\\lib\\site-packages\\geneticalgorithm\\geneticalgorithm.py\u001b[0m in \u001b[0;36mrun\u001b[1;34m(self)\u001b[0m\n\u001b[0;32m    301\u001b[0m \u001b[1;33m\u001b[0m\u001b[0m\n\u001b[0;32m    302\u001b[0m \u001b[1;33m\u001b[0m\u001b[0m\n\u001b[1;32m--> 303\u001b[1;33m             \u001b[0mobj\u001b[0m\u001b[1;33m=\u001b[0m\u001b[0mself\u001b[0m\u001b[1;33m.\u001b[0m\u001b[0msim\u001b[0m\u001b[1;33m(\u001b[0m\u001b[0mvar\u001b[0m\u001b[1;33m)\u001b[0m\u001b[1;33m\u001b[0m\u001b[1;33m\u001b[0m\u001b[0m\n\u001b[0m\u001b[0;32m    304\u001b[0m             \u001b[0msolo\u001b[0m\u001b[1;33m[\u001b[0m\u001b[0mself\u001b[0m\u001b[1;33m.\u001b[0m\u001b[0mdim\u001b[0m\u001b[1;33m]\u001b[0m\u001b[1;33m=\u001b[0m\u001b[0mobj\u001b[0m\u001b[1;33m\u001b[0m\u001b[1;33m\u001b[0m\u001b[0m\n\u001b[0;32m    305\u001b[0m             \u001b[0mpop\u001b[0m\u001b[1;33m[\u001b[0m\u001b[0mp\u001b[0m\u001b[1;33m]\u001b[0m\u001b[1;33m=\u001b[0m\u001b[0msolo\u001b[0m\u001b[1;33m.\u001b[0m\u001b[0mcopy\u001b[0m\u001b[1;33m(\u001b[0m\u001b[1;33m)\u001b[0m\u001b[1;33m\u001b[0m\u001b[1;33m\u001b[0m\u001b[0m\n",
      "\u001b[1;32mc:\\Users\\WINDOWS\\anaconda3\\lib\\site-packages\\geneticalgorithm\\geneticalgorithm.py\u001b[0m in \u001b[0;36msim\u001b[1;34m(self, X)\u001b[0m\n\u001b[0;32m    540\u001b[0m         \u001b[0mobj\u001b[0m\u001b[1;33m=\u001b[0m\u001b[1;32mNone\u001b[0m\u001b[1;33m\u001b[0m\u001b[1;33m\u001b[0m\u001b[0m\n\u001b[0;32m    541\u001b[0m         \u001b[1;32mtry\u001b[0m\u001b[1;33m:\u001b[0m\u001b[1;33m\u001b[0m\u001b[1;33m\u001b[0m\u001b[0m\n\u001b[1;32m--> 542\u001b[1;33m             \u001b[0mobj\u001b[0m\u001b[1;33m=\u001b[0m\u001b[0mfunc_timeout\u001b[0m\u001b[1;33m(\u001b[0m\u001b[0mself\u001b[0m\u001b[1;33m.\u001b[0m\u001b[0mfuntimeout\u001b[0m\u001b[1;33m,\u001b[0m\u001b[0mself\u001b[0m\u001b[1;33m.\u001b[0m\u001b[0mevaluate\u001b[0m\u001b[1;33m)\u001b[0m\u001b[1;33m\u001b[0m\u001b[1;33m\u001b[0m\u001b[0m\n\u001b[0m\u001b[0;32m    543\u001b[0m         \u001b[1;32mexcept\u001b[0m \u001b[0mFunctionTimedOut\u001b[0m\u001b[1;33m:\u001b[0m\u001b[1;33m\u001b[0m\u001b[1;33m\u001b[0m\u001b[0m\n\u001b[0;32m    544\u001b[0m             \u001b[0mprint\u001b[0m\u001b[1;33m(\u001b[0m\u001b[1;34m\"given function is not applicable\"\u001b[0m\u001b[1;33m)\u001b[0m\u001b[1;33m\u001b[0m\u001b[1;33m\u001b[0m\u001b[0m\n",
      "\u001b[1;32mc:\\Users\\WINDOWS\\anaconda3\\lib\\site-packages\\func_timeout\\dafunc.py\u001b[0m in \u001b[0;36mfunc_timeout\u001b[1;34m(timeout, func, args, kwargs)\u001b[0m\n\u001b[0;32m    106\u001b[0m \u001b[1;33m\u001b[0m\u001b[0m\n\u001b[0;32m    107\u001b[0m     \u001b[1;32mif\u001b[0m \u001b[0mexception\u001b[0m\u001b[1;33m:\u001b[0m\u001b[1;33m\u001b[0m\u001b[1;33m\u001b[0m\u001b[0m\n\u001b[1;32m--> 108\u001b[1;33m         \u001b[0mraise_exception\u001b[0m\u001b[1;33m(\u001b[0m\u001b[0mexception\u001b[0m\u001b[1;33m)\u001b[0m\u001b[1;33m\u001b[0m\u001b[1;33m\u001b[0m\u001b[0m\n\u001b[0m\u001b[0;32m    109\u001b[0m \u001b[1;33m\u001b[0m\u001b[0m\n\u001b[0;32m    110\u001b[0m     \u001b[1;32mif\u001b[0m \u001b[0mret\u001b[0m\u001b[1;33m:\u001b[0m\u001b[1;33m\u001b[0m\u001b[1;33m\u001b[0m\u001b[0m\n",
      "\u001b[1;32mc:\\Users\\WINDOWS\\anaconda3\\lib\\site-packages\\func_timeout\\py3_raise.py\u001b[0m in \u001b[0;36mraise_exception\u001b[1;34m(exception)\u001b[0m\n\u001b[0;32m      5\u001b[0m \u001b[1;31m# Only available in python3.3+\u001b[0m\u001b[1;33m\u001b[0m\u001b[1;33m\u001b[0m\u001b[0m\n\u001b[0;32m      6\u001b[0m \u001b[1;32mdef\u001b[0m \u001b[0mraise_exception\u001b[0m\u001b[1;33m(\u001b[0m\u001b[0mexception\u001b[0m\u001b[1;33m)\u001b[0m\u001b[1;33m:\u001b[0m\u001b[1;33m\u001b[0m\u001b[1;33m\u001b[0m\u001b[0m\n\u001b[1;32m----> 7\u001b[1;33m     \u001b[1;32mraise\u001b[0m \u001b[0mexception\u001b[0m\u001b[1;33m[\u001b[0m\u001b[1;36m0\u001b[0m\u001b[1;33m]\u001b[0m \u001b[1;32mfrom\u001b[0m \u001b[1;32mNone\u001b[0m\u001b[1;33m\u001b[0m\u001b[1;33m\u001b[0m\u001b[0m\n\u001b[0m",
      "\u001b[1;32mc:\\Users\\WINDOWS\\anaconda3\\lib\\site-packages\\geneticalgorithm\\geneticalgorithm.py\u001b[0m in \u001b[0;36mevaluate\u001b[1;34m(self)\u001b[0m\n\u001b[0;32m    534\u001b[0m \u001b[1;31m###############################################################################\u001b[0m\u001b[1;33m\u001b[0m\u001b[1;33m\u001b[0m\u001b[0m\n\u001b[0;32m    535\u001b[0m     \u001b[1;32mdef\u001b[0m \u001b[0mevaluate\u001b[0m\u001b[1;33m(\u001b[0m\u001b[0mself\u001b[0m\u001b[1;33m)\u001b[0m\u001b[1;33m:\u001b[0m\u001b[1;33m\u001b[0m\u001b[1;33m\u001b[0m\u001b[0m\n\u001b[1;32m--> 536\u001b[1;33m         \u001b[1;32mreturn\u001b[0m \u001b[0mself\u001b[0m\u001b[1;33m.\u001b[0m\u001b[0mf\u001b[0m\u001b[1;33m(\u001b[0m\u001b[0mself\u001b[0m\u001b[1;33m.\u001b[0m\u001b[0mtemp\u001b[0m\u001b[1;33m)\u001b[0m\u001b[1;33m\u001b[0m\u001b[1;33m\u001b[0m\u001b[0m\n\u001b[0m\u001b[0;32m    537\u001b[0m \u001b[1;31m###############################################################################\u001b[0m\u001b[1;33m\u001b[0m\u001b[1;33m\u001b[0m\u001b[0m\n\u001b[0;32m    538\u001b[0m     \u001b[1;32mdef\u001b[0m \u001b[0msim\u001b[0m\u001b[1;33m(\u001b[0m\u001b[0mself\u001b[0m\u001b[1;33m,\u001b[0m\u001b[0mX\u001b[0m\u001b[1;33m)\u001b[0m\u001b[1;33m:\u001b[0m\u001b[1;33m\u001b[0m\u001b[1;33m\u001b[0m\u001b[0m\n",
      "\u001b[1;32m~\\AppData\\Local\\Temp\\ipykernel_4832\\591967376.py\u001b[0m in \u001b[0;36mf\u001b[1;34m(X)\u001b[0m\n\u001b[0;32m      8\u001b[0m     \u001b[1;32mfor\u001b[0m \u001b[0mi\u001b[0m \u001b[1;32min\u001b[0m \u001b[0mrange\u001b[0m\u001b[1;33m(\u001b[0m\u001b[1;36m0\u001b[0m\u001b[1;33m,\u001b[0m \u001b[0mdim\u001b[0m\u001b[1;33m)\u001b[0m\u001b[1;33m:\u001b[0m\u001b[1;33m\u001b[0m\u001b[1;33m\u001b[0m\u001b[0m\n\u001b[0;32m      9\u001b[0m         \u001b[0mcontrant\u001b[0m \u001b[1;33m+=\u001b[0m \u001b[0mX\u001b[0m\u001b[1;33m[\u001b[0m\u001b[0mi\u001b[0m\u001b[1;33m]\u001b[0m\u001b[1;33m\u001b[0m\u001b[1;33m\u001b[0m\u001b[0m\n\u001b[1;32m---> 10\u001b[1;33m         \u001b[0mOF\u001b[0m \u001b[1;33m+=\u001b[0m \u001b[1;33m(\u001b[0m\u001b[1;33m(\u001b[0m\u001b[0mX\u001b[0m\u001b[1;33m[\u001b[0m\u001b[0mi\u001b[0m\u001b[1;33m]\u001b[0m\u001b[1;33m)\u001b[0m\u001b[1;33m*\u001b[0m\u001b[0mexpectedVector\u001b[0m\u001b[1;33m[\u001b[0m\u001b[0mi\u001b[0m\u001b[1;33m]\u001b[0m\u001b[1;33m)\u001b[0m\u001b[1;33m\u001b[0m\u001b[1;33m\u001b[0m\u001b[0m\n\u001b[0m\u001b[0;32m     11\u001b[0m         \u001b[1;32mfor\u001b[0m \u001b[0mj\u001b[0m \u001b[1;32min\u001b[0m \u001b[0mrange\u001b[0m\u001b[1;33m(\u001b[0m\u001b[1;36m0\u001b[0m\u001b[1;33m,\u001b[0m \u001b[0mdim\u001b[0m\u001b[1;33m)\u001b[0m\u001b[1;33m:\u001b[0m\u001b[1;33m\u001b[0m\u001b[1;33m\u001b[0m\u001b[0m\n\u001b[0;32m     12\u001b[0m             \u001b[0mxicMa\u001b[0m \u001b[1;33m+=\u001b[0m \u001b[1;33m(\u001b[0m\u001b[0mX\u001b[0m\u001b[1;33m[\u001b[0m\u001b[0mi\u001b[0m\u001b[1;33m]\u001b[0m\u001b[1;33m)\u001b[0m\u001b[1;33m*\u001b[0m\u001b[1;33m(\u001b[0m\u001b[0mX\u001b[0m\u001b[1;33m[\u001b[0m\u001b[0mj\u001b[0m\u001b[1;33m]\u001b[0m\u001b[1;33m)\u001b[0m\u001b[1;33m*\u001b[0m\u001b[0mcovMatrix\u001b[0m\u001b[1;33m[\u001b[0m\u001b[0mi\u001b[0m\u001b[1;33m,\u001b[0m \u001b[0mj\u001b[0m\u001b[1;33m]\u001b[0m\u001b[1;33m\u001b[0m\u001b[1;33m\u001b[0m\u001b[0m\n",
      "\u001b[1;32mc:\\Users\\WINDOWS\\anaconda3\\lib\\site-packages\\pandas\\core\\series.py\u001b[0m in \u001b[0;36m__getitem__\u001b[1;34m(self, key)\u001b[0m\n\u001b[0;32m    956\u001b[0m \u001b[1;33m\u001b[0m\u001b[0m\n\u001b[0;32m    957\u001b[0m         \u001b[1;32melif\u001b[0m \u001b[0mkey_is_scalar\u001b[0m\u001b[1;33m:\u001b[0m\u001b[1;33m\u001b[0m\u001b[1;33m\u001b[0m\u001b[0m\n\u001b[1;32m--> 958\u001b[1;33m             \u001b[1;32mreturn\u001b[0m \u001b[0mself\u001b[0m\u001b[1;33m.\u001b[0m\u001b[0m_get_value\u001b[0m\u001b[1;33m(\u001b[0m\u001b[0mkey\u001b[0m\u001b[1;33m)\u001b[0m\u001b[1;33m\u001b[0m\u001b[1;33m\u001b[0m\u001b[0m\n\u001b[0m\u001b[0;32m    959\u001b[0m \u001b[1;33m\u001b[0m\u001b[0m\n\u001b[0;32m    960\u001b[0m         \u001b[1;32mif\u001b[0m \u001b[0mis_hashable\u001b[0m\u001b[1;33m(\u001b[0m\u001b[0mkey\u001b[0m\u001b[1;33m)\u001b[0m\u001b[1;33m:\u001b[0m\u001b[1;33m\u001b[0m\u001b[1;33m\u001b[0m\u001b[0m\n",
      "\u001b[1;32mc:\\Users\\WINDOWS\\anaconda3\\lib\\site-packages\\pandas\\core\\series.py\u001b[0m in \u001b[0;36m_get_value\u001b[1;34m(self, label, takeable)\u001b[0m\n\u001b[0;32m   1067\u001b[0m \u001b[1;33m\u001b[0m\u001b[0m\n\u001b[0;32m   1068\u001b[0m         \u001b[1;31m# Similar to Index.get_value, but we do not fall back to positional\u001b[0m\u001b[1;33m\u001b[0m\u001b[1;33m\u001b[0m\u001b[0m\n\u001b[1;32m-> 1069\u001b[1;33m         \u001b[0mloc\u001b[0m \u001b[1;33m=\u001b[0m \u001b[0mself\u001b[0m\u001b[1;33m.\u001b[0m\u001b[0mindex\u001b[0m\u001b[1;33m.\u001b[0m\u001b[0mget_loc\u001b[0m\u001b[1;33m(\u001b[0m\u001b[0mlabel\u001b[0m\u001b[1;33m)\u001b[0m\u001b[1;33m\u001b[0m\u001b[1;33m\u001b[0m\u001b[0m\n\u001b[0m\u001b[0;32m   1070\u001b[0m         \u001b[1;32mreturn\u001b[0m \u001b[0mself\u001b[0m\u001b[1;33m.\u001b[0m\u001b[0mindex\u001b[0m\u001b[1;33m.\u001b[0m\u001b[0m_get_values_for_loc\u001b[0m\u001b[1;33m(\u001b[0m\u001b[0mself\u001b[0m\u001b[1;33m,\u001b[0m \u001b[0mloc\u001b[0m\u001b[1;33m,\u001b[0m \u001b[0mlabel\u001b[0m\u001b[1;33m)\u001b[0m\u001b[1;33m\u001b[0m\u001b[1;33m\u001b[0m\u001b[0m\n\u001b[0;32m   1071\u001b[0m \u001b[1;33m\u001b[0m\u001b[0m\n",
      "\u001b[1;32mc:\\Users\\WINDOWS\\anaconda3\\lib\\site-packages\\pandas\\core\\indexes\\base.py\u001b[0m in \u001b[0;36mget_loc\u001b[1;34m(self, key, method, tolerance)\u001b[0m\n\u001b[0;32m   3629\u001b[0m                 \u001b[1;32mreturn\u001b[0m \u001b[0mself\u001b[0m\u001b[1;33m.\u001b[0m\u001b[0m_engine\u001b[0m\u001b[1;33m.\u001b[0m\u001b[0mget_loc\u001b[0m\u001b[1;33m(\u001b[0m\u001b[0mcasted_key\u001b[0m\u001b[1;33m)\u001b[0m\u001b[1;33m\u001b[0m\u001b[1;33m\u001b[0m\u001b[0m\n\u001b[0;32m   3630\u001b[0m             \u001b[1;32mexcept\u001b[0m \u001b[0mKeyError\u001b[0m \u001b[1;32mas\u001b[0m \u001b[0merr\u001b[0m\u001b[1;33m:\u001b[0m\u001b[1;33m\u001b[0m\u001b[1;33m\u001b[0m\u001b[0m\n\u001b[1;32m-> 3631\u001b[1;33m                 \u001b[1;32mraise\u001b[0m \u001b[0mKeyError\u001b[0m\u001b[1;33m(\u001b[0m\u001b[0mkey\u001b[0m\u001b[1;33m)\u001b[0m \u001b[1;32mfrom\u001b[0m \u001b[0merr\u001b[0m\u001b[1;33m\u001b[0m\u001b[1;33m\u001b[0m\u001b[0m\n\u001b[0m\u001b[0;32m   3632\u001b[0m             \u001b[1;32mexcept\u001b[0m \u001b[0mTypeError\u001b[0m\u001b[1;33m:\u001b[0m\u001b[1;33m\u001b[0m\u001b[1;33m\u001b[0m\u001b[0m\n\u001b[0;32m   3633\u001b[0m                 \u001b[1;31m# If we have a listlike key, _check_indexing_error will raise\u001b[0m\u001b[1;33m\u001b[0m\u001b[1;33m\u001b[0m\u001b[0m\n",
      "\u001b[1;31mKeyError\u001b[0m: 0"
     ]
    }
   ],
   "source": [
    "numbersOfAssests = expectedVector.shape[0]\n",
    "chosenAssetsList, proportionOfAssetsList, outputDict= runModel(numbersOfAssests, 9)\n",
    " \n",
    "  \n",
    "\n"
   ]
  },
  {
   "cell_type": "code",
   "execution_count": null,
   "id": "described-court",
   "metadata": {},
   "outputs": [
    {
     "name": "stdout",
     "output_type": "stream",
     "text": [
      "Sharpe Ratio in sample Out by GA: nan\n",
      "Sharpe Ratio in sample Out: 0.4366355965805874\n",
      "Sharpe Ratio in sample In by GA: nan\n",
      "Sharpe Ratio in sample In: nan\n",
      "Choosen assets: \n",
      "Asset:2 - 12.5 %\n",
      "Asset:3 - 12.5 %\n",
      "Asset:6 - 12.5 %\n",
      "Asset:7 - 12.5 %\n",
      "Asset:8 - 12.5 %\n",
      "Asset:10 - 12.5 %\n",
      "Asset:12 - 12.5 %\n",
      "Asset:13 - 12.5 %\n"
     ]
    }
   ],
   "source": [
    "def calculateSharpeRatio(assetsList, proportionOfAssetsList, expectedArr, covMatrix):\n",
    "    xichMa = 0\n",
    "    sharpeRatio = 0\n",
    "    avarageReturn = 0\n",
    "    dim = len(assetsList) \n",
    "    for i in range(0, dim):\n",
    "        idxAsset1 = assetsList[i]\n",
    "        avarageReturn += proportionOfAssetsList[i]*expectedArr[idxAsset1]\n",
    "        for j in range(0, dim):\n",
    "            idxAsset2 = assetsList[j]\n",
    "            xichMa += (proportionOfAssetsList[i])*(proportionOfAssetsList[j])*covMatrix[idxAsset1 ,idxAsset2]\n",
    "    sharpeRatio = avarageReturn/math.sqrt(xichMa)\n",
    "    return sharpeRatio, avarageReturn, math.sqrt(xichMa)\n",
    " \n",
    "    \n",
    "testProportionOfAssetsList = [1 for i in range(len(chosenAssetsList))]    \n",
    "\n",
    "valueOutTest = calculateSharpeRatio(chosenAssetsList, testProportionOfAssetsList, expectedVector, covMatrixOut)\n",
    "print(f\"Sharpe Ratio in sample Out by GA: {valueOutTest[0]}\")\n",
    "valueOut = calculateSharpeRatio(chosenAssetsList, proportionOfAssetsList, expectedVectorOut, covMatrixOut)\n",
    "# print(valueOut)\n",
    "print(f\"Sharpe Ratio in sample Out: {valueOut[0]}\")\n",
    "\n",
    "print(f\"Sharpe Ratio in sample In by GA: {-outputDict['function']}\")\n",
    "valueIn = calculateSharpeRatio(chosenAssetsList, proportionOfAssetsList, expectedVector, covMatrix)\n",
    "print(f\"Sharpe Ratio in sample In: {valueIn[0]}\")\n",
    "\n",
    "\n",
    "# Print name assets if it use api data\n",
    "if len(covMatrix) == 16:\n",
    "    nameOfAssets = ['BTC_USD', 'ETH_USD', 'XRP_USD', 'ADA_USD', 'TRX_USD', 'SOL_USD', 'UNI_USD', 'AVAX_USD', 'LINK_USD', 'BNB_USD', 'ATOM_USD', 'ETC_USD', 'NEAR_USD', 'FTM_USD', 'DOGE_USD', 'MATIC_USD']\n",
    "    print(f\"Chosen assets: \")\n",
    "    for idx in range(len(chosenAssetsList)):\n",
    "        print(f\"{nameOfAssets[chosenAssetsList[idx]]} - {round(proportionOfAssetsList[idx]*100, 2)} %\")\n",
    "elif len(covMatrix) == 17: \n",
    "    nameOfAssets = ['BTC_USD', 'ETH_USD', 'XRP_USD', 'ADA_USD', 'TRX_USD', 'SOL_USD', 'UNI_USD', 'AVAX_USD', 'LINK_USD', 'BNB_USD', 'ATOM_USD', 'ETC_USD', 'NEAR_USD', 'LUNC_USD', 'FTM_USD', 'DOGE_USD', 'MATIC_USD']\n",
    "    print(f\"Chosen assets: \")\n",
    "    for idx in range(len(chosenAssetsList)):\n",
    "        print(f\"{nameOfAssets[chosenAssetsList[idx]]} - {round(proportionOfAssetsList[idx]*100, 2)} %\")"
   ]
  },
  {
   "cell_type": "code",
   "execution_count": null,
   "id": "exciting-enclosure",
   "metadata": {},
   "outputs": [
    {
     "name": "stdout",
     "output_type": "stream",
     "text": [
      "Chosen assets: \n",
      "XRP_USD - 12.5 %\n",
      "ADA_USD - 12.5 %\n",
      "UNI_USD - 12.5 %\n",
      "AVAX_USD - 12.5 %\n",
      "LINK_USD - 12.5 %\n",
      "ATOM_USD - 12.5 %\n",
      "NEAR_USD - 12.5 %\n",
      "LUNC_USD - 12.5 %\n"
     ]
    }
   ],
   "source": []
  }
 ],
 "metadata": {
  "kernelspec": {
   "display_name": "Python 3",
   "language": "python",
   "name": "python3"
  },
  "language_info": {
   "codemirror_mode": {
    "name": "ipython",
    "version": 3
   },
   "file_extension": ".py",
   "mimetype": "text/x-python",
   "name": "python",
   "nbconvert_exporter": "python",
   "pygments_lexer": "ipython3",
   "version": "3.9.13"
  }
 },
 "nbformat": 4,
 "nbformat_minor": 5
}
