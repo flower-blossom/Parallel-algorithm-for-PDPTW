{
 "cells": [
  {
   "cell_type": "code",
   "execution_count": 12,
   "id": "physical-tradition",
   "metadata": {},
   "outputs": [],
   "source": [
    "import pandas\n",
    "import math\n",
    "import numpy as np\n",
    "\n",
    "from geneticalgorithm import geneticalgorithm as ga\n",
    "from qpsolvers import solve_qp\n",
    "\n",
    "# percentReturnsWeekDataAfterLunc.xlsx\n",
    "# percentReturnsWeekDataBeforeLunc.xlsx\n",
    "# percentReturnsWeekData.xlsx\n",
    "path = r'data\\API binance\\percentReturnsDayDataAfterLunc.xlsx'\n",
    "\n",
    "# Read TestData\n",
    "# my_data = pandas.read_excel(path, header=None)\n",
    "\n",
    "# Read API Data\n",
    "my_data = pandas.read_excel(path, index_col=0, header=0)\n",
    "\n",
    "percentInOut = 0.95\n",
    "data_in  = my_data.iloc[:round(percentInOut*my_data.shape[0]):-1, :]\n",
    "data_out = my_data.iloc[round(percentInOut*my_data.shape[0])::-1, :]\n",
    "covMatrix = data_in.cov().to_numpy()\n",
    "corrMatrix = data_in.corr().to_numpy()\n",
    "expectedVector = np.mean(data_in, axis=0)\n",
    "\n",
    "covMatrixOut = data_out.cov().to_numpy()\n",
    "corrMatrixOut = data_out.corr().to_numpy()\n",
    "expectedVectorOut = np.mean(my_data, axis=0)\n",
    "\n",
    "# print(\"Covariance Matrix is : \")\n",
    "# print(covMatrix)\n",
    "# print(\"Correlation Matrix is : \")\n",
    "# print(corrMatrix)\n"
   ]
  },
  {
   "cell_type": "markdown",
   "id": "horizontal-stadium",
   "metadata": {},
   "source": [
    "Solve model 1 using ga"
   ]
  },
  {
   "cell_type": "code",
   "execution_count": 13,
   "id": "personal-nowhere",
   "metadata": {},
   "outputs": [
    {
     "name": "stdout",
     "output_type": "stream",
     "text": [
      "17\n",
      " The best solution found:                                                                           \n",
      " [1. 1. 1. 0. 0. 0. 0. 0. 1. 0. 0. 0. 0. 0. 0. 1. 0.]\n",
      "\n",
      " Objective function:\n",
      " -0.2231927189234377\n"
     ]
    },
    {
     "data": {
      "image/png": "[encoded data removed]",
      "text/plain": [
       "<Figure size 640x480 with 1 Axes>"
      ]
     },
     "metadata": {},
     "output_type": "display_data"
    }
   ],
   "source": [
    "def f(X):\n",
    "    #     Objective function: Sharpe Ratio\n",
    "    dim = len(X)\n",
    "    OF = 0\n",
    "    pen = 0\n",
    "    contrant = 0\n",
    "    xicMa = 0\n",
    "    for i in range(0, dim):\n",
    "        contrant += X[i]\n",
    "        OF += ((X[i])*expectedVector[i])\n",
    "        for j in range(0, dim):\n",
    "            xicMa += (X[i])*(X[j])*covMatrix[i, j]\n",
    "#     Contrant of model by using penalty\n",
    "    if contrant <= K:\n",
    "        pen = 500 + 1000*(contrant)\n",
    "    OF = OF/math.sqrt(xicMa)\n",
    "    return - OF + pen\n",
    "\n",
    "\n",
    "K = 4\n",
    "numbersOfAssests = expectedVector.shape[0]\n",
    "print(numbersOfAssests)\n",
    "varbound = np.array([[0, 1]]*numbersOfAssests)\n",
    "algorithm_param = {'max_num_iteration': 10000,\n",
    "                   'population_size': 100,\n",
    "                   'mutation_probability': 0.1,\n",
    "                   'elit_ratio': 0.01,\n",
    "                   'crossover_probability': 0.5,\n",
    "                   'parents_portion': 0.3,\n",
    "                   'crossover_type': 'uniform',\n",
    "                   'max_iteration_without_improv': None}\n",
    "\n",
    "# Use for TestData because it have a large number assets, set max_num_iteration to saving time run.\n",
    "# model=ga(function=f,dimension=numbersOfAssests,variable_type='bool',variable_boundaries=varbound, algorithm_parameters=algorithm_param)\n",
    "\n",
    "# Default for api data\n",
    "model = ga(function=f, dimension=numbersOfAssests,\n",
    "           variable_type='bool', variable_boundaries=varbound)\n",
    "\n",
    "model.run()\n",
    "outputDict = model.output_dict\n",
    "while outputDict['function'] >= (500 + 1000*(K) - 1):\n",
    "    model.run()\n",
    "    outputDict = model.output_dict"
   ]
  },
  {
   "cell_type": "markdown",
   "id": "documentary-discretion",
   "metadata": {},
   "source": [
    "Solve Model 2 (Quadratic programming)"
   ]
  },
  {
   "cell_type": "code",
   "execution_count": 14,
   "id": "olive-wrist",
   "metadata": {},
   "outputs": [
    {
     "name": "stdout",
     "output_type": "stream",
     "text": [
      "Proportion Of Assets: x = [0.2000106  0.10000069 0.2999898  0.10000041 0.2999985 ]\n"
     ]
    }
   ],
   "source": [
    "def chosenAssets(arr):\n",
    "    chosenAssetsList = []\n",
    "    for n in range(len(arr)):\n",
    "        if arr[n] == 1:\n",
    "            chosenAssetsList.append(n)\n",
    "    return chosenAssetsList\n",
    "\n",
    "chosenAssetsList = chosenAssets(outputDict['variable'])\n",
    "numberOfAssets = len(chosenAssetsList)\n",
    "P = np.zeros([numberOfAssets, numberOfAssets])\n",
    "for i in range(numberOfAssets):\n",
    "    for j in range(numberOfAssets):\n",
    "        P[i, j] = covMatrix[chosenAssetsList[i] ,chosenAssetsList[j]]                              \n",
    "\n",
    "\n",
    "expectedReturns = 0\n",
    "q = np.array([0. for i in range(numberOfAssets)])\n",
    "A = np.array([1. for i in range(numberOfAssets)])\n",
    "b = np.array([1.])\n",
    "G = np.array([-expectedVector[chosenAssetsList[i]] for i in range(numberOfAssets)])\n",
    "h = np.array([-expectedReturns])\n",
    "lb = 0.1 * np.ones(numberOfAssets)\n",
    "ub = 0.3 * np.ones(numberOfAssets)\n",
    "proportionOfAssetsList = solve_qp(P, q, G=G, h=h, A=A, b=b, lb=lb, ub=ub,solver=\"cvxopt\")\n",
    "print(f\"Proportion Of Assets: x = {proportionOfAssetsList}\")\n",
    "\n",
    "\n"
   ]
  },
  {
   "cell_type": "code",
   "execution_count": 15,
   "id": "described-court",
   "metadata": {},
   "outputs": [
    {
     "name": "stdout",
     "output_type": "stream",
     "text": [
      "Sharpe Ratio in sample Out by GA: 0.09221048232887662\n",
      "Sharpe Ratio in sample Out: 0.08276084206210454\n",
      "Sharpe Ratio in sample In by GA: 0.2231927189234377\n",
      "Sharpe Ratio in sample In: 0.21217783012909897\n",
      "Choosen assets: \n",
      "Asset:0 - 20.0 %\n",
      "Asset:1 - 10.0 %\n",
      "Asset:2 - 30.0 %\n",
      "Asset:8 - 10.0 %\n",
      "Asset:15 - 30.0 %\n"
     ]
    }
   ],
   "source": [
    "def calculateSharpeRatio(assetsList, proportionOfAssetsList, expectedArr, covMatrix):\n",
    "    xichMa = 0\n",
    "    sharpeRatio = 0\n",
    "    avarageReturn = 0\n",
    "    dim = len(assetsList) \n",
    "    for i in range(0, dim):\n",
    "        idxAsset1 = assetsList[i]\n",
    "        avarageReturn += proportionOfAssetsList[i]*expectedArr[idxAsset1]\n",
    "        for j in range(0, dim):\n",
    "            idxAsset2 = assetsList[j]\n",
    "            xichMa += (proportionOfAssetsList[i])*(proportionOfAssetsList[j])*covMatrix[idxAsset1 ,idxAsset2]\n",
    "    sharpeRatio = avarageReturn/math.sqrt(xichMa)\n",
    "    return sharpeRatio, avarageReturn, math.sqrt(xichMa)\n",
    " \n",
    "    \n",
    "testProportionOfAssetsList = [1 for i in range(len(chosenAssetsList))]    \n",
    "\n",
    "valueOutTest = calculateSharpeRatio(chosenAssetsList, testProportionOfAssetsList, expectedVector, covMatrixOut)\n",
    "print(f\"Sharpe Ratio in sample Out by GA: {valueOutTest[0]}\")\n",
    "valueOut = calculateSharpeRatio(chosenAssetsList, proportionOfAssetsList, expectedVectorOut, covMatrixOut)\n",
    "# print(valueOut)\n",
    "print(f\"Sharpe Ratio in sample Out: {valueOut[0]}\")\n",
    "\n",
    "print(f\"Sharpe Ratio in sample In by GA: {-outputDict['function']}\")\n",
    "valueIn = calculateSharpeRatio(chosenAssetsList, proportionOfAssetsList, expectedVector, covMatrix)\n",
    "print(f\"Sharpe Ratio in sample In: {valueIn[0]}\")\n",
    "\n",
    "print(f\"Choosen assets: \")\n",
    "for idx in range(len(chosenAssetsList)):\n",
    "    print(f\"Asset:{chosenAssetsList[idx]} - {round(proportionOfAssetsList[idx]*100, 2)} %\")"
   ]
  },
  {
   "cell_type": "code",
   "execution_count": 16,
   "id": "exciting-enclosure",
   "metadata": {},
   "outputs": [
    {
     "name": "stdout",
     "output_type": "stream",
     "text": [
      "Chosen assets: \n",
      "BTC_USD - 20.0 %\n",
      "ETH_USD - 10.0 %\n",
      "XRP_USD - 30.0 %\n",
      "LINK_USD - 10.0 %\n",
      "DOGE_USD - 30.0 %\n"
     ]
    }
   ],
   "source": [
    "# Print name assets if it use api data\n",
    "if len(covMatrix) == 16:\n",
    "    nameOfAssets = ['BTC_USD', 'ETH_USD', 'XRP_USD', 'ADA_USD', 'TRX_USD', 'SOL_USD', 'UNI_USD', 'AVAX_USD', 'LINK_USD', 'BNB_USD', 'ATOM_USD', 'ETC_USD', 'NEAR_USD', 'FTM_USD', 'DOGE_USD', 'MATIC_USD']\n",
    "    print(f\"Chosen assets: \")\n",
    "    for idx in range(len(chosenAssetsList)):\n",
    "        print(f\"{nameOfAssets[chosenAssetsList[idx]]} - {round(proportionOfAssetsList[idx]*100, 2)} %\")\n",
    "elif len(covMatrix) == 17: \n",
    "    nameOfAssets = ['BTC_USD', 'ETH_USD', 'XRP_USD', 'ADA_USD', 'TRX_USD', 'SOL_USD', 'UNI_USD', 'AVAX_USD', 'LINK_USD', 'BNB_USD', 'ATOM_USD', 'ETC_USD', 'NEAR_USD', 'LUNC_USD', 'FTM_USD', 'DOGE_USD', 'MATIC_USD']\n",
    "    print(f\"Chosen assets: \")\n",
    "    for idx in range(len(chosenAssetsList)):\n",
    "        print(f\"{nameOfAssets[chosenAssetsList[idx]]} - {round(proportionOfAssetsList[idx]*100, 2)} %\")"
   ]
  }
 ],
 "metadata": {
  "kernelspec": {
   "display_name": "Python 3",
   "language": "python",
   "name": "python3"
  },
  "language_info": {
   "codemirror_mode": {
    "name": "ipython",
    "version": 3
   },
   "file_extension": ".py",
   "mimetype": "text/x-python",
   "name": "python",
   "nbconvert_exporter": "python",
   "pygments_lexer": "ipython3",
   "version": "3.9.13"
  }
 },
 "nbformat": 4,
 "nbformat_minor": 5
}
